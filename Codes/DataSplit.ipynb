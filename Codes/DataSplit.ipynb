{
 "cells": [
  {
   "cell_type": "code",
   "execution_count": 1,
   "id": "6614ee7a",
   "metadata": {},
   "outputs": [],
   "source": [
    "import os\n",
    "import random\n",
    "import shutil"
   ]
  },
  {
   "cell_type": "code",
   "execution_count": 9,
   "id": "6b4171f9",
   "metadata": {},
   "outputs": [],
   "source": [
    "dataset_dir = \"C:\\\\Users\\\\Asus\\\\Downloads\\\\Pattern\\\\Dataset\\\\\"\n",
    "train_dir =   \"C:\\\\Users\\\\Asus\\\\Downloads\\\\Pattern\\\\Dataset\\\\Train\\\\\"\n",
    "test_dir =    \"C:\\\\Users\\\\Asus\\\\Downloads\\\\Pattern\\\\Dataset\\\\Test\\\\\"\n",
    "val_dir =     \"C:\\\\Users\\\\Asus\\\\Downloads\\\\Pattern\\\\Dataset\\\\Validation\\\\\""
   ]
  },
  {
   "cell_type": "code",
   "execution_count": 3,
   "id": "41a97b65",
   "metadata": {},
   "outputs": [],
   "source": [
    "folder_names = [\n",
    "    \"Corn___Common_Rust\", \"Corn___Gray_Leaf_Spot\", \"Corn___Healthy\", \"Corn___Northern_Leaf_Blight\",\n",
    "    \"Potato___Early_Blight\", \"Potato___Healthy\", \"Potato___Late_Blight\",\n",
    "    \"Rice___Brown_Spot\", \"Rice___Healthy\", \"Rice___Leaf_Blast\", \"Rice___Neck_Blast\",\n",
    "    \"Wheat___Brown_Rust\", \"Wheat___Healthy\", \"Wheat___Yellow_Rust\"\n",
    "]"
   ]
  },
  {
   "cell_type": "code",
   "execution_count": 4,
   "id": "97ec2e1e",
   "metadata": {},
   "outputs": [
    {
     "name": "stdout",
     "output_type": "stream",
     "text": [
      "Renamed 'Corn___Common_Rust' to '0'\n",
      "Renamed 'Corn___Gray_Leaf_Spot' to '1'\n",
      "Renamed 'Corn___Healthy' to '2'\n",
      "Renamed 'Corn___Northern_Leaf_Blight' to '3'\n",
      "Renamed 'Potato___Early_Blight' to '4'\n",
      "Renamed 'Potato___Healthy' to '5'\n",
      "Renamed 'Potato___Late_Blight' to '6'\n",
      "Renamed 'Rice___Brown_Spot' to '7'\n",
      "Renamed 'Rice___Healthy' to '8'\n",
      "Renamed 'Rice___Leaf_Blast' to '9'\n",
      "Renamed 'Rice___Neck_Blast' to '10'\n",
      "Renamed 'Wheat___Brown_Rust' to '11'\n",
      "Renamed 'Wheat___Healthy' to '12'\n",
      "Renamed 'Wheat___Yellow_Rust' to '13'\n",
      "Folder renaming completed.\n"
     ]
    }
   ],
   "source": [
    "for i, folder_name in enumerate(folder_names):\n",
    "    old_folder_path = os.path.join(dataset_dir, folder_name)\n",
    "    new_folder_name = str(i)\n",
    "    new_folder_path = os.path.join(dataset_dir, new_folder_name)\n",
    "    \n",
    "    os.rename(old_folder_path, new_folder_path)\n",
    "    print(f\"Renamed '{folder_name}' to '{new_folder_name}'\")\n",
    "\n",
    "print(\"Folder renaming completed.\")"
   ]
  },
  {
   "cell_type": "code",
   "execution_count": 10,
   "id": "3b90591b",
   "metadata": {},
   "outputs": [],
   "source": [
    "os.makedirs(train_dir, exist_ok=True)\n",
    "os.makedirs(test_dir, exist_ok=True)\n",
    "os.makedirs(val_dir, exist_ok=True)"
   ]
  },
  {
   "cell_type": "code",
   "execution_count": 6,
   "id": "37e46912",
   "metadata": {},
   "outputs": [],
   "source": [
    "folder_names = [\n",
    "    \"0\", \"1\", \"2\", \"3\", \"4\", \"5\", \"6\", \"7\", \"8\", \"9\", \"10\", \"11\", \"12\", \"13\"\n",
    "]"
   ]
  },
  {
   "cell_type": "code",
   "execution_count": 7,
   "id": "9ab484dd",
   "metadata": {},
   "outputs": [],
   "source": [
    "train_ratio = 0.7\n",
    "test_ratio = 0.2\n",
    "val_ratio = 0.1 "
   ]
  },
  {
   "cell_type": "code",
   "execution_count": 11,
   "id": "6c46dd99",
   "metadata": {},
   "outputs": [
    {
     "name": "stdout",
     "output_type": "stream",
     "text": [
      "Dataset splitting completed.\n"
     ]
    }
   ],
   "source": [
    "for folder_name in folder_names:\n",
    "    folder_path = os.path.join(dataset_dir, folder_name)\n",
    "    images = os.listdir(folder_path)\n",
    "    random.shuffle(images) \n",
    "\n",
    "    total_images = len(images)\n",
    "    train_count = int(total_images * train_ratio)\n",
    "    test_count = int(total_images * test_ratio)\n",
    "    val_count = total_images - train_count - test_count\n",
    "\n",
    "    train_images = images[:train_count]\n",
    "    test_images = images[train_count:train_count + test_count]\n",
    "    val_images = images[train_count + test_count:]\n",
    "\n",
    "\n",
    "    for image_name in train_images:\n",
    "        src_path = os.path.join(folder_path, image_name)\n",
    "        dst_path = os.path.join(train_dir, folder_name, image_name)\n",
    "        os.makedirs(os.path.dirname(dst_path), exist_ok=True)\n",
    "        shutil.copy(src_path, dst_path)\n",
    "\n",
    "    for image_name in test_images:\n",
    "        src_path = os.path.join(folder_path, image_name)\n",
    "        dst_path = os.path.join(test_dir, folder_name, image_name)\n",
    "        os.makedirs(os.path.dirname(dst_path), exist_ok=True)\n",
    "        shutil.copy(src_path, dst_path)\n",
    "\n",
    "    for image_name in val_images:\n",
    "        src_path = os.path.join(folder_path, image_name)\n",
    "        dst_path = os.path.join(val_dir, folder_name, image_name)\n",
    "        os.makedirs(os.path.dirname(dst_path), exist_ok=True)\n",
    "        shutil.copy(src_path, dst_path)\n",
    "\n",
    "print(\"Dataset splitting completed.\")"
   ]
  },
  {
   "cell_type": "code",
   "execution_count": null,
   "id": "605788a3",
   "metadata": {},
   "outputs": [],
   "source": []
  }
 ],
 "metadata": {
  "kernelspec": {
   "display_name": "Python 3 (ipykernel)",
   "language": "python",
   "name": "python3"
  },
  "language_info": {
   "codemirror_mode": {
    "name": "ipython",
    "version": 3
   },
   "file_extension": ".py",
   "mimetype": "text/x-python",
   "name": "python",
   "nbconvert_exporter": "python",
   "pygments_lexer": "ipython3",
   "version": "3.9.16"
  }
 },
 "nbformat": 4,
 "nbformat_minor": 5
}
